{
 "cells": [
  {
   "cell_type": "code",
   "execution_count": null,
   "metadata": {},
   "outputs": [],
   "source": [
    "%pip install transformers\n",
    "%pip install torch\n",
    "%pip install pandas\n",
    "%pip install scikit-learn\n",
    "%pip install matplotlib"
   ]
  },
  {
   "cell_type": "code",
   "execution_count": 1,
   "metadata": {},
   "outputs": [
    {
     "name": "stderr",
     "output_type": "stream",
     "text": [
      "d:\\GitHub\\Blockchain-Smart-Contract-Security\\.venv\\Lib\\site-packages\\tqdm\\auto.py:21: TqdmWarning: IProgress not found. Please update jupyter and ipywidgets. See https://ipywidgets.readthedocs.io/en/stable/user_install.html\n",
      "  from .autonotebook import tqdm as notebook_tqdm\n"
     ]
    }
   ],
   "source": [
    "import torch\n",
    "from transformers import BertModel, BertConfig\n",
    "import torch.optim as optim\n",
    "from torch.optim import lr_scheduler\n",
    "import matplotlib.pyplot as plt\n",
    "import pandas as pd\n",
    "from transformers import BertTokenizer\n",
    "from torch.utils.data import DataLoader, Dataset\n",
    "from sklearn.model_selection import train_test_split\n",
    "from tqdm import tqdm\n",
    "import numpy as np\n",
    "from sklearn.metrics import confusion_matrix\n"
   ]
  },
  {
   "cell_type": "code",
   "execution_count": 2,
   "metadata": {},
   "outputs": [
    {
     "data": {
      "text/html": [
       "<div>\n",
       "<style scoped>\n",
       "    .dataframe tbody tr th:only-of-type {\n",
       "        vertical-align: middle;\n",
       "    }\n",
       "\n",
       "    .dataframe tbody tr th {\n",
       "        vertical-align: top;\n",
       "    }\n",
       "\n",
       "    .dataframe thead th {\n",
       "        text-align: right;\n",
       "    }\n",
       "</style>\n",
       "<table border=\"1\" class=\"dataframe\">\n",
       "  <thead>\n",
       "    <tr style=\"text-align: right;\">\n",
       "      <th></th>\n",
       "      <th>tokens</th>\n",
       "      <th>label</th>\n",
       "    </tr>\n",
       "  </thead>\n",
       "  <tbody>\n",
       "    <tr>\n",
       "      <th>0</th>\n",
       "      <td>['function', 'sweep', '(', 'address', '_token'...</td>\n",
       "      <td>0</td>\n",
       "    </tr>\n",
       "    <tr>\n",
       "      <th>1</th>\n",
       "      <td>['function', 'sweep', '(', 'address', '_token'...</td>\n",
       "      <td>0</td>\n",
       "    </tr>\n",
       "    <tr>\n",
       "      <th>2</th>\n",
       "      <td>['function', 'sweep', '(', 'address', '_token'...</td>\n",
       "      <td>0</td>\n",
       "    </tr>\n",
       "    <tr>\n",
       "      <th>3</th>\n",
       "      <td>['function', 'events', '(', ')', '{', 'if', '(...</td>\n",
       "      <td>0</td>\n",
       "    </tr>\n",
       "    <tr>\n",
       "      <th>4</th>\n",
       "      <td>['function', 'events', '(', ')', '{', 'if', '(...</td>\n",
       "      <td>0</td>\n",
       "    </tr>\n",
       "  </tbody>\n",
       "</table>\n",
       "</div>"
      ],
      "text/plain": [
       "                                              tokens  label\n",
       "0  ['function', 'sweep', '(', 'address', '_token'...      0\n",
       "1  ['function', 'sweep', '(', 'address', '_token'...      0\n",
       "2  ['function', 'sweep', '(', 'address', '_token'...      0\n",
       "3  ['function', 'events', '(', ')', '{', 'if', '(...      0\n",
       "4  ['function', 'events', '(', ')', '{', 'if', '(...      0"
      ]
     },
     "execution_count": 2,
     "metadata": {},
     "output_type": "execute_result"
    }
   ],
   "source": [
    "\n",
    "df = pd.read_csv('D:\\GitHub\\Blockchain-Smart-Contract-Security\\solidity_vulnerabilities.csv')\n",
    "df.head()\n"
   ]
  },
  {
   "cell_type": "code",
   "execution_count": 3,
   "metadata": {},
   "outputs": [],
   "source": [
    "\n",
    "class SolidityDataset(Dataset):\n",
    "    def __init__(self, data, max_len):\n",
    "        self.data = data\n",
    "        self.max_len = max_len\n",
    "\n",
    "    def __len__(self):\n",
    "        return len(self.data)\n",
    "\n",
    "    def __getitem__(self, index):\n",
    "        input_ids = self.data.iloc[index]['tokens']  \n",
    "        label = self.data.iloc[index]['label']\n",
    "        \n",
    "        # Padding and truncation\n",
    "        padding_length = self.max_len - len(input_ids)\n",
    "        if padding_length > 0:\n",
    "            input_ids = input_ids + [0] * padding_length\n",
    "            attention_mask = [1] * len(input_ids) + [0] * padding_length\n",
    "        else:\n",
    "            input_ids = input_ids[:self.max_len]\n",
    "            attention_mask = [1] * self.max_len\n",
    "        \n",
    "        return {\n",
    "            'input_ids': torch.tensor(input_ids, dtype=torch.long),\n",
    "            'attention_mask': torch.tensor(attention_mask, dtype=torch.long),\n",
    "            'label': torch.tensor(label, dtype=torch.long)\n",
    "        }\n",
    "\n",
    "\n",
    "MAX_LEN = 64\n",
    "BATCH_SIZE = 8\n",
    "\n",
    "train_data, test_data = train_test_split(df, test_size=0.2, random_state=42)\n",
    "\n",
    "train_dataset = SolidityDataset(train_data, MAX_LEN)\n",
    "test_dataset = SolidityDataset(test_data, MAX_LEN)\n",
    "\n",
    "train_dataloader = DataLoader(train_dataset, batch_size=BATCH_SIZE, shuffle=True)\n",
    "test_dataloader = DataLoader(test_dataset, batch_size=BATCH_SIZE, shuffle=False)\n"
   ]
  },
  {
   "cell_type": "code",
   "execution_count": 6,
   "metadata": {},
   "outputs": [
    {
     "name": "stdout",
     "output_type": "stream",
     "text": [
      "Epoch 1/3\n"
     ]
    },
    {
     "name": "stderr",
     "output_type": "stream",
     "text": [
      "Training: 100%|██████████| 503/503 [00:52<00:00,  9.57batch/s, Loss=0.376] \n",
      "Evaluating: 100%|██████████| 126/126 [00:04<00:00, 30.63batch/s, Loss=0.0708, Accuracy=0.845]\n"
     ]
    },
    {
     "name": "stdout",
     "output_type": "stream",
     "text": [
      "Train Loss: 0.4644\n",
      "Validation Loss: 0.2929, Validation Accuracy: 0.8449\n",
      "Epoch 2/3\n"
     ]
    },
    {
     "name": "stderr",
     "output_type": "stream",
     "text": [
      "Training: 100%|██████████| 503/503 [00:53<00:00,  9.47batch/s, Loss=0.302]  \n",
      "Evaluating: 100%|██████████| 126/126 [00:04<00:00, 31.12batch/s, Loss=0.0829, Accuracy=0.843]\n"
     ]
    },
    {
     "name": "stdout",
     "output_type": "stream",
     "text": [
      "Train Loss: 0.2706\n",
      "Validation Loss: 0.2809, Validation Accuracy: 0.8429\n",
      "Epoch 3/3\n"
     ]
    },
    {
     "name": "stderr",
     "output_type": "stream",
     "text": [
      "Training: 100%|██████████| 503/503 [00:54<00:00,  9.29batch/s, Loss=0.382]  \n",
      "Evaluating: 100%|██████████| 126/126 [00:04<00:00, 28.81batch/s, Loss=0.0799, Accuracy=0.852]\n"
     ]
    },
    {
     "name": "stdout",
     "output_type": "stream",
     "text": [
      "Train Loss: 0.2610\n",
      "Validation Loss: 0.2578, Validation Accuracy: 0.8519\n"
     ]
    },
    {
     "name": "stderr",
     "output_type": "stream",
     "text": [
      "Evaluating: 100%|██████████| 126/126 [00:04<00:00, 29.61batch/s, Loss=0.0799, Accuracy=0.852]\n"
     ]
    },
    {
     "name": "stdout",
     "output_type": "stream",
     "text": [
      "Test Loss: 0.2578, Test Accuracy: 0.8519\n"
     ]
    },
    {
     "data": {
      "image/png": "[encoded data removed]",
      "text/plain": [
       "<Figure size 800x800 with 2 Axes>"
      ]
     },
     "metadata": {},
     "output_type": "display_data"
    }
   ],
   "source": [
    "class CustomBERTModel(torch.nn.Module):\n",
    "    def __init__(self, config, num_classes):\n",
    "        super(CustomBERTModel, self).__init__()\n",
    "        self.bert = BertModel(config)\n",
    "        self.classifier = torch.nn.Linear(config.hidden_size, num_classes)\n",
    "\n",
    "    def forward(self, input_ids, attention_mask):\n",
    "        outputs = self.bert(input_ids=input_ids, attention_mask=attention_mask)\n",
    "        pooled_output = outputs.pooler_output\n",
    "        return self.classifier(pooled_output)\n",
    "\n",
    "\n",
    "config = BertConfig(\n",
    "    hidden_size=768,\n",
    "    num_attention_heads=4,\n",
    "    num_hidden_layers=12,\n",
    "    intermediate_size=3072,\n",
    "    hidden_dropout_prob=0.1,\n",
    "    attention_probs_dropout_prob=0.1\n",
    ")\n",
    "\n",
    "NUM_CLASSES = 4\n",
    "\n",
    "model = CustomBERTModel(config, NUM_CLASSES)\n",
    "device = torch.device('cuda' if torch.cuda.is_available() else 'cpu')\n",
    "model = model.to(device)\n",
    "\n",
    "EPOCHS = 3\n",
    "LEARNING_RATE = 2e-5\n",
    "EPSILON = 1e-8\n",
    "\n",
    "#đánh giá lỗi, lan truyền ngược\n",
    "optimizer = optim.AdamW(model.parameters(), lr=LEARNING_RATE, eps=EPSILON)\n",
    "scheduler = lr_scheduler.StepLR(optimizer, step_size=1, gamma=0.1)\n",
    "\n",
    "# Loss function\n",
    "criterion = torch.nn.CrossEntropyLoss()\n",
    "\n",
    "# trainning\n",
    "def train_epoch(model, dataloader, criterion, optimizer, device):\n",
    "    model.train()\n",
    "    total_loss = 0\n",
    "    progress_bar = tqdm(dataloader, desc=\"Training\", unit=\"batch\")\n",
    "    for batch in progress_bar:\n",
    "        optimizer.zero_grad()\n",
    "        input_ids = batch['input_ids'].to(device)\n",
    "        attention_mask = batch['attention_mask'].to(device)\n",
    "        labels = batch['label'].to(device)\n",
    "        outputs = model(input_ids, attention_mask=attention_mask)\n",
    "        loss = criterion(outputs, labels)\n",
    "        total_loss += loss.item()\n",
    "        loss.backward()\n",
    "        optimizer.step()\n",
    "        progress_bar.set_postfix({\"Loss\": loss.item()})\n",
    "    return total_loss / len(dataloader)\n",
    "\n",
    "#evalute\n",
    "def eval_model(model, dataloader, criterion, device):\n",
    "    model.eval()\n",
    "    total_loss = 0\n",
    "    correct_predictions = 0\n",
    "    all_labels = []\n",
    "    all_preds = []\n",
    "    progress_bar = tqdm(dataloader, desc=\"Evaluating\", unit=\"batch\")\n",
    "    with torch.no_grad():\n",
    "        for batch in progress_bar:\n",
    "            input_ids = batch['input_ids'].to(device)\n",
    "            attention_mask = batch['attention_mask'].to(device)\n",
    "            labels = batch['label'].to(device)\n",
    "            outputs = model(input_ids, attention_mask=attention_mask)\n",
    "            loss = criterion(outputs, labels)\n",
    "            total_loss += loss.item()\n",
    "            _, preds = torch.max(outputs, dim=1)\n",
    "            correct_predictions += torch.sum(preds == labels)\n",
    "            all_labels.extend(labels.cpu().numpy())\n",
    "            all_preds.extend(preds.cpu().numpy())\n",
    "            progress_bar.set_postfix({\"Loss\": loss.item(), \"Accuracy\": correct_predictions.item() / len(dataloader.dataset)})\n",
    "    return total_loss / len(dataloader), correct_predictions.double() / len(dataloader.dataset), all_labels, all_preds\n",
    "\n",
    "\n",
    "for epoch in range(EPOCHS):\n",
    "    print(f\"Epoch {epoch+1}/{EPOCHS}\")\n",
    "    train_loss = train_epoch(model, train_dataloader, criterion, optimizer, device)\n",
    "    val_loss, val_acc, _, _ = eval_model(model, test_dataloader, criterion, device)\n",
    "    scheduler.step()\n",
    "    print(f\"Train Loss: {train_loss:.4f}\")\n",
    "    print(f\"Validation Loss: {val_loss:.4f}, Validation Accuracy: {val_acc:.4f}\")\n",
    "\n",
    "\n",
    "test_loss, test_acc, test_labels, test_preds = eval_model(model, test_dataloader, criterion, device)\n",
    "print(f\"Test Loss: {test_loss:.4f}, Test Accuracy: {test_acc:.4f}\")\n",
    "\n",
    "cm = confusion_matrix(test_labels, test_preds)\n",
    "plt.figure(figsize=(8, 8))\n",
    "plt.imshow(cm, interpolation='nearest', cmap=plt.cm.Blues)\n",
    "plt.title(\"Confusion Matrix\")\n",
    "plt.colorbar()\n",
    "tick_marks = np.arange(len(set(test_labels)))\n",
    "plt.xticks(tick_marks, set(test_labels), rotation=45)\n",
    "plt.yticks(tick_marks, set(test_labels))\n",
    "plt.xlabel(\"Predicted\")\n",
    "plt.ylabel(\"True\")\n",
    "plt.tight_layout()\n",
    "plt.show()"
   ]
  },
  {
   "cell_type": "markdown",
   "metadata": {},
   "source": [
    "4 mutil-head attention\n",
    "\n",
    "Epoch 1/3\n",
    "Training: 100%|██████████| 503/503 [00:52<00:00,  9.57batch/s, Loss=0.376] \n",
    "Evaluating: 100%|██████████| 126/126 [00:04<00:00, 30.63batch/s, Loss=0.0708, Accuracy=0.845]\n",
    "Train Loss: 0.4644\n",
    "Validation Loss: 0.2929, Validation Accuracy: 0.8449\n",
    "Epoch 2/3\n",
    "Training: 100%|██████████| 503/503 [00:53<00:00,  9.47batch/s, Loss=0.302]  \n",
    "Evaluating: 100%|██████████| 126/126 [00:04<00:00, 31.12batch/s, Loss=0.0829, Accuracy=0.843]\n",
    "Train Loss: 0.2706\n",
    "Validation Loss: 0.2809, Validation Accuracy: 0.8429\n",
    "Epoch 3/3\n",
    "Training: 100%|██████████| 503/503 [00:54<00:00,  9.29batch/s, Loss=0.382]  \n",
    "Evaluating: 100%|██████████| 126/126 [00:04<00:00, 28.81batch/s, Loss=0.0799, Accuracy=0.852]\n",
    "Train Loss: 0.2610\n",
    "Validation Loss: 0.2578, Validation Accuracy: 0.8519\n",
    "Evaluating: 100%|██████████| 126/126 [00:04<00:00, 29.61batch/s, Loss=0.0799, Accuracy=0.852]\n",
    "Test Loss: 0.2578, Test Accuracy: 0.8519\n"
   ]
  },
  {
   "cell_type": "markdown",
   "metadata": {},
   "source": []
  }
 ],
 "metadata": {
  "kernelspec": {
   "display_name": ".venv",
   "language": "python",
   "name": "python3"
  },
  "language_info": {
   "codemirror_mode": {
    "name": "ipython",
    "version": 3
   },
   "file_extension": ".py",
   "mimetype": "text/x-python",
   "name": "python",
   "nbconvert_exporter": "python",
   "pygments_lexer": "ipython3",
   "version": "3.11.7"
  }
 },
 "nbformat": 4,
 "nbformat_minor": 2
}
